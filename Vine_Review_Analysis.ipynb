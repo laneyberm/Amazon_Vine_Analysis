{
  "nbformat": 4,
  "nbformat_minor": 0,
  "metadata": {
    "colab": {
      "provenance": []
    },
    "kernelspec": {
      "name": "python3",
      "display_name": "Python 3"
    },
    "language_info": {
      "name": "python"
    }
  },
  "cells": [
    {
      "cell_type": "code",
      "execution_count": 2,
      "metadata": {
        "colab": {
          "base_uri": "https://localhost:8080/"
        },
        "id": "UGvu7ScnrkQG",
        "outputId": "b563eab9-5a9a-4fd2-ab9f-24cfae813b60"
      },
      "outputs": [
        {
          "output_type": "stream",
          "name": "stdout",
          "text": [
            "\r0% [Working]\r            \rIgn:1 https://developer.download.nvidia.com/compute/machine-learning/repos/ubuntu1804/x86_64  InRelease\n",
            "Get:2 https://developer.download.nvidia.com/compute/cuda/repos/ubuntu1804/x86_64  InRelease [1,581 B]\n",
            "Hit:3 http://archive.ubuntu.com/ubuntu bionic InRelease\n",
            "Hit:4 https://developer.download.nvidia.com/compute/machine-learning/repos/ubuntu1804/x86_64  Release\n",
            "Get:5 http://archive.ubuntu.com/ubuntu bionic-updates InRelease [88.7 kB]\n",
            "Get:6 https://cloud.r-project.org/bin/linux/ubuntu bionic-cran40/ InRelease [3,626 B]\n",
            "Hit:7 http://ppa.launchpad.net/c2d4u.team/c2d4u4.0+/ubuntu bionic InRelease\n",
            "Get:8 http://security.ubuntu.com/ubuntu bionic-security InRelease [88.7 kB]\n",
            "Get:9 http://archive.ubuntu.com/ubuntu bionic-backports InRelease [83.3 kB]\n",
            "Hit:10 http://ppa.launchpad.net/cran/libgit2/ubuntu bionic InRelease\n",
            "Get:11 https://developer.download.nvidia.com/compute/cuda/repos/ubuntu1804/x86_64  Packages [1,039 kB]\n",
            "Hit:12 http://ppa.launchpad.net/deadsnakes/ppa/ubuntu bionic InRelease\n",
            "Get:13 http://ppa.launchpad.net/graphics-drivers/ppa/ubuntu bionic InRelease [21.3 kB]\n",
            "Get:15 http://archive.ubuntu.com/ubuntu bionic-updates/universe amd64 Packages [2,342 kB]\n",
            "Get:16 http://archive.ubuntu.com/ubuntu bionic-updates/restricted amd64 Packages [1,334 kB]\n",
            "Get:17 http://archive.ubuntu.com/ubuntu bionic-updates/main amd64 Packages [3,519 kB]\n",
            "Get:18 http://security.ubuntu.com/ubuntu bionic-security/main amd64 Packages [3,094 kB]\n",
            "Get:19 http://security.ubuntu.com/ubuntu bionic-security/restricted amd64 Packages [1,294 kB]\n",
            "Get:20 http://security.ubuntu.com/ubuntu bionic-security/universe amd64 Packages [1,568 kB]\n",
            "Get:21 http://ppa.launchpad.net/graphics-drivers/ppa/ubuntu bionic/main amd64 Packages [38.5 kB]\n",
            "Fetched 14.5 MB in 7s (2,143 kB/s)\n",
            "Reading package lists... Done\n"
          ]
        }
      ],
      "source": [
        "import os\n",
        "# Find the latest version of spark 3.0  from http://www.apache.org/dist/spark/ and enter as the spark version\n",
        "# For example:\n",
        "spark_version = 'spark-3.3.1'\n",
        "os.environ['SPARK_VERSION']=spark_version\n",
        "\n",
        "# Install Spark and Java\n",
        "!apt-get update\n",
        "!apt-get install openjdk-11-jdk-headless -qq > /dev/null\n",
        "!wget -q http://www.apache.org/dist/spark/$SPARK_VERSION/$SPARK_VERSION-bin-hadoop3.tgz\n",
        "!tar xf $SPARK_VERSION-bin-hadoop3.tgz\n",
        "!pip install -q findspark\n",
        "\n",
        "# Set Environment Variables\n",
        "os.environ[\"JAVA_HOME\"] = \"/usr/lib/jvm/java-11-openjdk-amd64\"\n",
        "os.environ[\"SPARK_HOME\"] = f\"/content/{spark_version}-bin-hadoop3\"\n",
        "\n",
        "# Start a SparkSession\n",
        "import findspark\n",
        "findspark.init()"
      ]
    },
    {
      "cell_type": "code",
      "source": [
        "# Download the Postgres driver that will allow Spark to interact with Postgres.\n",
        "!wget https://jdbc.postgresql.org/download/postgresql-42.2.16.jar"
      ],
      "metadata": {
        "id": "oZXJqY1Hru3b",
        "colab": {
          "base_uri": "https://localhost:8080/"
        },
        "outputId": "0e3c4867-c182-4d1c-b77b-7a1f6ecd5f9c"
      },
      "execution_count": 3,
      "outputs": [
        {
          "output_type": "stream",
          "name": "stdout",
          "text": [
            "--2022-12-01 14:41:38--  https://jdbc.postgresql.org/download/postgresql-42.2.16.jar\n",
            "Resolving jdbc.postgresql.org (jdbc.postgresql.org)... 72.32.157.228, 2001:4800:3e1:1::228\n",
            "Connecting to jdbc.postgresql.org (jdbc.postgresql.org)|72.32.157.228|:443... connected.\n",
            "HTTP request sent, awaiting response... 200 OK\n",
            "Length: 1002883 (979K) [application/java-archive]\n",
            "Saving to: ‘postgresql-42.2.16.jar’\n",
            "\n",
            "postgresql-42.2.16. 100%[===================>] 979.38K  4.82MB/s    in 0.2s    \n",
            "\n",
            "2022-12-01 14:41:38 (4.82 MB/s) - ‘postgresql-42.2.16.jar’ saved [1002883/1002883]\n",
            "\n"
          ]
        }
      ]
    },
    {
      "cell_type": "code",
      "source": [
        "from pyspark.sql import SparkSession\n",
        "spark = SparkSession.builder.appName(\"M16-Amazon-Challenge\").config(\"spark.driver.extraClassPath\",\"/content/postgresql-42.2.16.jar\").getOrCreate()"
      ],
      "metadata": {
        "id": "ogFWYD6-r9_b"
      },
      "execution_count": 4,
      "outputs": []
    },
    {
      "cell_type": "code",
      "source": [
        "from pyspark import SparkFiles\n",
        "url = \"https://s3.amazonaws.com/amazon-reviews-pds/tsv/amazon_reviews_us_Digital_Ebook_Purchase_v1_00.tsv.gz\"\n",
        "spark.sparkContext.addFile(url)\n",
        "df = spark.read.option(\"encoding\", \"UTF-8\").csv(SparkFiles.get(\"amazon_reviews_us_Digital_Ebook_Purchase_v1_00.tsv.gz\"), sep=\"\\t\", header=True, inferSchema=True)\n"
      ],
      "metadata": {
        "id": "rqrQqgRrsqV-"
      },
      "execution_count": 5,
      "outputs": []
    },
    {
      "cell_type": "code",
      "source": [
        "# Drop incomplete rows\n",
        "df = df.dropna()\n",
        "df.show(5)"
      ],
      "metadata": {
        "colab": {
          "base_uri": "https://localhost:8080/"
        },
        "id": "y2xxYwjpvwMx",
        "outputId": "cf2d6b01-8b15-4116-9cfb-819d2a2db699"
      },
      "execution_count": 6,
      "outputs": [
        {
          "output_type": "stream",
          "name": "stdout",
          "text": [
            "+-----------+-----------+--------------+----------+--------------+--------------------+--------------------+-----------+-------------+-----------+----+-----------------+--------------------+--------------------+-------------------+\n",
            "|marketplace|customer_id|     review_id|product_id|product_parent|       product_title|    product_category|star_rating|helpful_votes|total_votes|vine|verified_purchase|     review_headline|         review_body|        review_date|\n",
            "+-----------+-----------+--------------+----------+--------------+--------------------+--------------------+-----------+-------------+-----------+----+-----------------+--------------------+--------------------+-------------------+\n",
            "|         US|   35471030|R1C5OK9AND7PRP|B00AHK07V0|     175130663|Hunter's Moon (A ...|Digital_Ebook_Pur...|          5|            0|          0|   N|                Y|Shugak is like a ...|This is the most ...|2015-08-31 00:00:00|\n",
            "|         US|   26579324|R333RNBQMPVUFT|B014085WTQ|     859232728|Flying Toward For...|Digital_Ebook_Pur...|          5|            0|          0|   N|                Y|For the young hea...|This story holds ...|2015-08-31 00:00:00|\n",
            "|         US|    9152364|R2A2K0GTNSKXM1|B0113MFPN0|     411472516|Falling For A Rea...|Digital_Ebook_Pur...|          5|            0|          0|   N|                N|          Five Stars|A true love story...|2015-08-31 00:00:00|\n",
            "|         US|   52087605|R365LAQ9REV876|B00T8RIK7G|     353828021|   The Good Neighbor|Digital_Ebook_Pur...|          3|            0|          0|   N|                Y|Not really my typ...|A bit contrived a...|2015-08-31 00:00:00|\n",
            "|         US|   46454660|R294OF3SNH6SWZ|B00EMXBDMA|     803172158|The Martian: A Novel|Digital_Ebook_Pur...|          4|            0|          0|   N|                Y|Coming soon to a ...|Moved well. Seeme...|2015-08-31 00:00:00|\n",
            "+-----------+-----------+--------------+----------+--------------+--------------------+--------------------+-----------+-------------+-----------+----+-----------------+--------------------+--------------------+-------------------+\n",
            "only showing top 5 rows\n",
            "\n"
          ]
        }
      ]
    },
    {
      "cell_type": "code",
      "source": [
        "# Create the vine_table DataFrame\n",
        "vine_df = df.select([\"review_id\",\"star_rating\",\"helpful_votes\",\"total_votes\",\"vine\",\"verified_purchase\"])\n",
        "vine_df.show()"
      ],
      "metadata": {
        "colab": {
          "base_uri": "https://localhost:8080/"
        },
        "id": "6aYI92JowMBm",
        "outputId": "c91b302d-a1b0-49a0-98bf-5c1bf193472c"
      },
      "execution_count": 7,
      "outputs": [
        {
          "output_type": "stream",
          "name": "stdout",
          "text": [
            "+--------------+-----------+-------------+-----------+----+-----------------+\n",
            "|     review_id|star_rating|helpful_votes|total_votes|vine|verified_purchase|\n",
            "+--------------+-----------+-------------+-----------+----+-----------------+\n",
            "|R1C5OK9AND7PRP|          5|            0|          0|   N|                Y|\n",
            "|R333RNBQMPVUFT|          5|            0|          0|   N|                Y|\n",
            "|R2A2K0GTNSKXM1|          5|            0|          0|   N|                N|\n",
            "|R365LAQ9REV876|          3|            0|          0|   N|                Y|\n",
            "|R294OF3SNH6SWZ|          4|            0|          0|   N|                Y|\n",
            "|R2OMRH58WYEEP9|          5|            0|          0|   N|                N|\n",
            "| RBFXYUJZIH5JR|          5|            0|          0|   N|                Y|\n",
            "|R2K2RSBNV42HU4|          5|            0|          0|   N|                N|\n",
            "|R2CLRFFJ5HJSU3|          4|            0|          0|   N|                N|\n",
            "| RS1O7V45AADDO|          4|            0|          0|   N|                Y|\n",
            "| RYD2AF3KUC4OL|          5|            2|          2|   N|                Y|\n",
            "| RHQTCPUF1CXY2|          4|            0|          0|   N|                Y|\n",
            "|R3371UTDP6I1FU|          5|            0|          0|   N|                Y|\n",
            "|R2RI2S5Q90RG23|          5|            0|          0|   N|                Y|\n",
            "| RCYE82T9GRT48|          5|            0|          0|   N|                Y|\n",
            "|R12T8WK03VQNC5|          4|            1|          1|   N|                Y|\n",
            "|R3RVME26X4DGJX|          5|            0|          0|   N|                N|\n",
            "|R3BME7NLVCMJHW|          4|            0|          0|   N|                Y|\n",
            "|R1PKMRYLDMVN2P|          3|            0|          0|   N|                Y|\n",
            "|R1TR7VKTTJV505|          5|            0|          0|   N|                N|\n",
            "+--------------+-----------+-------------+-----------+----+-----------------+\n",
            "only showing top 20 rows\n",
            "\n"
          ]
        }
      ]
    },
    {
      "cell_type": "code",
      "source": [
        "# Filter DataFrame for total_votes equal to or greater than 20\n",
        "high_total_votes_df = vine_df.filter(vine_df.total_votes >= 20)\n",
        "high_total_votes_df.show()"
      ],
      "metadata": {
        "colab": {
          "base_uri": "https://localhost:8080/"
        },
        "id": "vbw244rTu5Q9",
        "outputId": "d93b17e0-ad84-47b1-9ac2-f4d94142973f"
      },
      "execution_count": 8,
      "outputs": [
        {
          "output_type": "stream",
          "name": "stdout",
          "text": [
            "+--------------+-----------+-------------+-----------+----+-----------------+\n",
            "|     review_id|star_rating|helpful_votes|total_votes|vine|verified_purchase|\n",
            "+--------------+-----------+-------------+-----------+----+-----------------+\n",
            "|R2HQLKREFKG25D|          5|           21|         21|   N|                Y|\n",
            "| RWIL1XU6YM0U4|          5|           20|         20|   N|                N|\n",
            "|R28SB7Q1WBJRFM|          5|           25|         27|   N|                N|\n",
            "|R3PVKAWMZW55U8|          5|          106|        119|   N|                Y|\n",
            "|R21JS1HIQV1H7W|          3|           17|         22|   N|                Y|\n",
            "|R2IBPJ9OIDSZHW|          3|            0|         37|   N|                Y|\n",
            "|R3SR8MPHQATFCJ|          1|            8|         20|   N|                Y|\n",
            "|R245IE9DATP3ZL|          3|           15|         23|   N|                Y|\n",
            "| RB1Y3RO4J4854|          3|           23|         30|   N|                Y|\n",
            "|R23P75H9VX5RLM|          5|           32|         36|   N|                Y|\n",
            "|R124TPC0B72OMW|          1|            1|         30|   N|                N|\n",
            "|R3JCH5P63TIQ4E|          5|           19|         20|   N|                N|\n",
            "| RYA7IZ8VHN5P8|          2|           37|         42|   N|                Y|\n",
            "| RE754WU5TGN9E|          5|           39|         44|   N|                Y|\n",
            "|  RVNRTIVFKBBI|          5|           23|         23|   N|                N|\n",
            "|R31X4TF63XSPKJ|          5|           30|         35|   N|                Y|\n",
            "| R5GHZAQ911CJV|          3|           41|         51|   N|                N|\n",
            "|R109YPQMPNG6J3|          5|           20|         22|   N|                Y|\n",
            "|R1KKWEQ84QFMAU|          5|           36|         41|   N|                N|\n",
            "|R25JYT9OOGCKRF|          5|          176|        202|   N|                Y|\n",
            "+--------------+-----------+-------------+-----------+----+-----------------+\n",
            "only showing top 20 rows\n",
            "\n"
          ]
        }
      ]
    },
    {
      "cell_type": "code",
      "source": [
        "# Filter DataFrame for helpful_votes ratio equal to or greater than 50%.\n",
        "most_helpful_votes = high_total_votes_df.filter((high_total_votes_df.helpful_votes / high_total_votes_df.total_votes) >= 0.5)\n",
        "most_helpful_votes.show()"
      ],
      "metadata": {
        "colab": {
          "base_uri": "https://localhost:8080/"
        },
        "id": "j8QNsCicvc8U",
        "outputId": "ff0b68c4-b8b4-4a5e-b4f9-d5f4832c40e0"
      },
      "execution_count": 9,
      "outputs": [
        {
          "output_type": "stream",
          "name": "stdout",
          "text": [
            "+--------------+-----------+-------------+-----------+----+-----------------+\n",
            "|     review_id|star_rating|helpful_votes|total_votes|vine|verified_purchase|\n",
            "+--------------+-----------+-------------+-----------+----+-----------------+\n",
            "|R2HQLKREFKG25D|          5|           21|         21|   N|                Y|\n",
            "| RWIL1XU6YM0U4|          5|           20|         20|   N|                N|\n",
            "|R28SB7Q1WBJRFM|          5|           25|         27|   N|                N|\n",
            "|R3PVKAWMZW55U8|          5|          106|        119|   N|                Y|\n",
            "|R21JS1HIQV1H7W|          3|           17|         22|   N|                Y|\n",
            "|R245IE9DATP3ZL|          3|           15|         23|   N|                Y|\n",
            "| RB1Y3RO4J4854|          3|           23|         30|   N|                Y|\n",
            "|R23P75H9VX5RLM|          5|           32|         36|   N|                Y|\n",
            "|R3JCH5P63TIQ4E|          5|           19|         20|   N|                N|\n",
            "| RYA7IZ8VHN5P8|          2|           37|         42|   N|                Y|\n",
            "| RE754WU5TGN9E|          5|           39|         44|   N|                Y|\n",
            "|  RVNRTIVFKBBI|          5|           23|         23|   N|                N|\n",
            "|R31X4TF63XSPKJ|          5|           30|         35|   N|                Y|\n",
            "| R5GHZAQ911CJV|          3|           41|         51|   N|                N|\n",
            "|R109YPQMPNG6J3|          5|           20|         22|   N|                Y|\n",
            "|R1KKWEQ84QFMAU|          5|           36|         41|   N|                N|\n",
            "|R25JYT9OOGCKRF|          5|          176|        202|   N|                Y|\n",
            "|R3MSUS8K98C44Q|          5|           34|         37|   N|                Y|\n",
            "|R2G06M6RQEP948|          3|           39|         40|   N|                Y|\n",
            "| RG5OVB55VNGVN|          2|           16|         20|   N|                Y|\n",
            "+--------------+-----------+-------------+-----------+----+-----------------+\n",
            "only showing top 20 rows\n",
            "\n"
          ]
        }
      ]
    },
    {
      "cell_type": "code",
      "source": [
        "# Create a new DataFrame that retrieves all the rows where a review was written as part of the Vine program (paid), vine == 'Y'\n",
        "paid_helpful_df = most_helpful_votes.filter(most_helpful_votes.vine == 'Y')\n",
        "paid_helpful_df.show()"
      ],
      "metadata": {
        "colab": {
          "base_uri": "https://localhost:8080/"
        },
        "id": "GkKgpWO0xICp",
        "outputId": "e4cec3ae-b675-4e58-a65c-9d406c2eb042"
      },
      "execution_count": 10,
      "outputs": [
        {
          "output_type": "stream",
          "name": "stdout",
          "text": [
            "+---------+-----------+-------------+-----------+----+-----------------+\n",
            "|review_id|star_rating|helpful_votes|total_votes|vine|verified_purchase|\n",
            "+---------+-----------+-------------+-----------+----+-----------------+\n",
            "+---------+-----------+-------------+-----------+----+-----------------+\n",
            "\n"
          ]
        }
      ]
    },
    {
      "cell_type": "code",
      "source": [
        "# Create a new DataFrame that retrieves all the rows where a review was written as not part of the Vine program (unpaid), vine == 'N'\n",
        "unpaid_helpful_df = most_helpful_votes.filter(most_helpful_votes.vine == 'N')\n",
        "unpaid_helpful_df.show()"
      ],
      "metadata": {
        "colab": {
          "base_uri": "https://localhost:8080/"
        },
        "id": "uKU86IfPydBE",
        "outputId": "c633811e-922c-4d36-ad60-6085de7722fe"
      },
      "execution_count": 11,
      "outputs": [
        {
          "output_type": "stream",
          "name": "stdout",
          "text": [
            "+--------------+-----------+-------------+-----------+----+-----------------+\n",
            "|     review_id|star_rating|helpful_votes|total_votes|vine|verified_purchase|\n",
            "+--------------+-----------+-------------+-----------+----+-----------------+\n",
            "|R2HQLKREFKG25D|          5|           21|         21|   N|                Y|\n",
            "| RWIL1XU6YM0U4|          5|           20|         20|   N|                N|\n",
            "|R28SB7Q1WBJRFM|          5|           25|         27|   N|                N|\n",
            "|R3PVKAWMZW55U8|          5|          106|        119|   N|                Y|\n",
            "|R21JS1HIQV1H7W|          3|           17|         22|   N|                Y|\n",
            "|R245IE9DATP3ZL|          3|           15|         23|   N|                Y|\n",
            "| RB1Y3RO4J4854|          3|           23|         30|   N|                Y|\n",
            "|R23P75H9VX5RLM|          5|           32|         36|   N|                Y|\n",
            "|R3JCH5P63TIQ4E|          5|           19|         20|   N|                N|\n",
            "| RYA7IZ8VHN5P8|          2|           37|         42|   N|                Y|\n",
            "| RE754WU5TGN9E|          5|           39|         44|   N|                Y|\n",
            "|  RVNRTIVFKBBI|          5|           23|         23|   N|                N|\n",
            "|R31X4TF63XSPKJ|          5|           30|         35|   N|                Y|\n",
            "| R5GHZAQ911CJV|          3|           41|         51|   N|                N|\n",
            "|R109YPQMPNG6J3|          5|           20|         22|   N|                Y|\n",
            "|R1KKWEQ84QFMAU|          5|           36|         41|   N|                N|\n",
            "|R25JYT9OOGCKRF|          5|          176|        202|   N|                Y|\n",
            "|R3MSUS8K98C44Q|          5|           34|         37|   N|                Y|\n",
            "|R2G06M6RQEP948|          3|           39|         40|   N|                Y|\n",
            "| RG5OVB55VNGVN|          2|           16|         20|   N|                Y|\n",
            "+--------------+-----------+-------------+-----------+----+-----------------+\n",
            "only showing top 20 rows\n",
            "\n"
          ]
        }
      ]
    },
    {
      "cell_type": "code",
      "source": [
        "# Determine the total number of reviews\n",
        "count_vine_df = vine_df.count()\n",
        "print(f'Total number of reviews: {count_vine_df}')"
      ],
      "metadata": {
        "colab": {
          "base_uri": "https://localhost:8080/"
        },
        "id": "VZqmSf1F-uuW",
        "outputId": "c2a39416-e258-4404-bd75-945a9e5b6be7"
      },
      "execution_count": 12,
      "outputs": [
        {
          "output_type": "stream",
          "name": "stdout",
          "text": [
            "Total number of reviews: 12518702\n"
          ]
        }
      ]
    },
    {
      "cell_type": "code",
      "source": [
        "# Determine the total number of reviews\n",
        "count_high_votes = high_total_votes_df.count()\n",
        "print(f'Total number of reviews with high votes: {count_high_votes}')"
      ],
      "metadata": {
        "colab": {
          "base_uri": "https://localhost:8080/"
        },
        "id": "ivDAcPj4zCfr",
        "outputId": "7992f040-97f7-4fba-eced-2fe362a03572"
      },
      "execution_count": 14,
      "outputs": [
        {
          "output_type": "stream",
          "name": "stdout",
          "text": [
            "Total number of reviews with high votes: 70710\n"
          ]
        }
      ]
    },
    {
      "cell_type": "code",
      "source": [
        "# Determine total number of most helpful reviews (helpful_votes ratio equal to or greater than 50%.)\n",
        "count_most_helpful = most_helpful_votes.count()\n",
        "print(f'Total number of reviews that are most helpful: {count_most_helpful}')"
      ],
      "metadata": {
        "colab": {
          "base_uri": "https://localhost:8080/"
        },
        "id": "irl3CvN5MVKv",
        "outputId": "f2eb18f7-003d-4158-bf6b-72daee0e3333"
      },
      "execution_count": 15,
      "outputs": [
        {
          "output_type": "stream",
          "name": "stdout",
          "text": [
            "Total number of reviews that are most helpful: 54079\n"
          ]
        }
      ]
    },
    {
      "cell_type": "code",
      "source": [
        "# Determine the number of 5-star reviews\n",
        "count_vine_df_5star = vine_df.filter(\"star_rating=='5'\").count()\n",
        "print(f'Total number of 5 Star reviews: {count_vine_df_5star}')"
      ],
      "metadata": {
        "id": "A85ysDQ4zG7p",
        "colab": {
          "base_uri": "https://localhost:8080/"
        },
        "outputId": "acc72943-5235-4ecc-8353-d66838306da3"
      },
      "execution_count": 16,
      "outputs": [
        {
          "output_type": "stream",
          "name": "stdout",
          "text": [
            "Total number of 5 Star reviews: 7678551\n"
          ]
        }
      ]
    },
    {
      "cell_type": "code",
      "source": [
        "# Determine the number of 5-star reviews that are most helpful\n",
        "count_most_helpful_5star = most_helpful_votes.filter(\"star_rating=='5'\").count()\n",
        "print(f'Total number of 5 Star most helpful reviews: {count_most_helpful_5star}')"
      ],
      "metadata": {
        "colab": {
          "base_uri": "https://localhost:8080/"
        },
        "id": "YaAYuCapRHge",
        "outputId": "144448ac-3413-4ab2-8916-a7b6852cd8cb"
      },
      "execution_count": 17,
      "outputs": [
        {
          "output_type": "stream",
          "name": "stdout",
          "text": [
            "Total number of 5 Star most helpful reviews: 20911\n"
          ]
        }
      ]
    },
    {
      "cell_type": "code",
      "source": [
        "# Since there is no paid helpful reviews, we will determine if there are any paids reviews in all data\n",
        "# Determine total number of paid reviews\n",
        "paid_df = vine_df.filter(vine_df.vine == 'Y')\n",
        "paid_df.show(10)"
      ],
      "metadata": {
        "colab": {
          "base_uri": "https://localhost:8080/"
        },
        "id": "-RjtNRX1zMZD",
        "outputId": "0a616bc5-d095-483e-f585-a6c6d49744cc"
      },
      "execution_count": 20,
      "outputs": [
        {
          "output_type": "stream",
          "name": "stdout",
          "text": [
            "+--------------+-----------+-------------+-----------+----+-----------------+\n",
            "|     review_id|star_rating|helpful_votes|total_votes|vine|verified_purchase|\n",
            "+--------------+-----------+-------------+-----------+----+-----------------+\n",
            "|R139V6UP5XQNJS|          3|            1|          1|   Y|                N|\n",
            "|R3JJ8JM9S8GO0K|          4|            3|          6|   Y|                N|\n",
            "| R8Z2F22OCOJ9B|          5|            8|          8|   Y|                Y|\n",
            "|R3RSQ7WVO2ESQ1|          4|            3|          4|   Y|                N|\n",
            "| R8B40D83FHHOV|          5|            3|          5|   Y|                N|\n",
            "| RZ14CPL9FWVSB|          5|            0|          0|   Y|                N|\n",
            "|R3G73NCIEFIBLV|          5|            0|          0|   Y|                N|\n",
            "|R1TT7A3BB57KKO|          3|            0|          0|   Y|                N|\n",
            "|R14LGT1WBV55G8|          5|            2|          2|   Y|                N|\n",
            "|R1AOFVHMG68TQR|          3|            1|          1|   Y|                N|\n",
            "+--------------+-----------+-------------+-----------+----+-----------------+\n",
            "only showing top 10 rows\n",
            "\n"
          ]
        }
      ]
    },
    {
      "cell_type": "code",
      "source": [
        "count_paid = paid_df.count()\n",
        "print(f'Total number of paid reviews: {count_paid}')"
      ],
      "metadata": {
        "colab": {
          "base_uri": "https://localhost:8080/"
        },
        "id": "dUE7SvrjVq0w",
        "outputId": "414480f6-5d51-466b-82e5-cf486353b010"
      },
      "execution_count": 28,
      "outputs": [
        {
          "output_type": "stream",
          "name": "stdout",
          "text": [
            "Total number of paid reviews: 32\n"
          ]
        }
      ]
    },
    {
      "cell_type": "code",
      "source": [
        "# Determine total number of unpaid reviews\n",
        "unpaid_df = vine_df.filter(vine_df.vine == 'N')\n",
        "count_unpaid = unpaid_df.count()\n",
        "print(f'Total number of unpaid reviews: {count_unpaid}')"
      ],
      "metadata": {
        "colab": {
          "base_uri": "https://localhost:8080/"
        },
        "id": "OghZhRURVZjF",
        "outputId": "14bd83ae-5a6c-46b8-9037-37561253e523"
      },
      "execution_count": 29,
      "outputs": [
        {
          "output_type": "stream",
          "name": "stdout",
          "text": [
            "Total number of unpaid reviews: 12518670\n"
          ]
        }
      ]
    },
    {
      "cell_type": "markdown",
      "source": [
        "# **Determine the percentage of 5-star total reviews for the two types of review (paid vs unpaid)**"
      ],
      "metadata": {
        "id": "T5pxXf1_VDqk"
      }
    },
    {
      "cell_type": "code",
      "source": [
        "# Determine the number of paid 5-star reviews \n",
        "count_5star_paid = paid_df.filter(\"star_rating=='5'\").count()\n",
        "print(f'Total number of paid 5-star reviews: {count_5star_paid}')"
      ],
      "metadata": {
        "colab": {
          "base_uri": "https://localhost:8080/"
        },
        "id": "TNUjnSqCJQrg",
        "outputId": "ead0b869-c909-4439-bbde-70d99b3d4172"
      },
      "execution_count": 25,
      "outputs": [
        {
          "output_type": "stream",
          "name": "stdout",
          "text": [
            "Total number of paid 5-star reviews: 17\n"
          ]
        }
      ]
    },
    {
      "cell_type": "code",
      "source": [
        "# Determine the percentage of paid 5-star reviews \n",
        "percent_5star_paid = (count_5star_paid / count_paid)*100\n",
        "print(f'Percentage of 5-star reviews for paid reviews: {percent_5star_paid}')"
      ],
      "metadata": {
        "colab": {
          "base_uri": "https://localhost:8080/"
        },
        "id": "6oqirdji-hdv",
        "outputId": "ab79e535-ff90-467b-83e8-51c6d6c5a079"
      },
      "execution_count": 33,
      "outputs": [
        {
          "output_type": "stream",
          "name": "stdout",
          "text": [
            "Percentage of 5-star reviews for paid reviews: 53.125\n"
          ]
        }
      ]
    },
    {
      "cell_type": "code",
      "source": [
        "# Determine the number of unpaid 5-star reviews \n",
        "count_5star_unpaid = unpaid_df.filter(\"star_rating=='5'\").count()\n",
        "print(f'Total number of unpaid 5-star reviews: {count_5star_unpaid}')"
      ],
      "metadata": {
        "colab": {
          "base_uri": "https://localhost:8080/"
        },
        "id": "FnAjqVrL9mGf",
        "outputId": "9af91ee3-46f0-4dc7-8827-95bc3d88c525"
      },
      "execution_count": 26,
      "outputs": [
        {
          "output_type": "stream",
          "name": "stdout",
          "text": [
            "Total number of unpaid 5-star reviews: 7678534\n"
          ]
        }
      ]
    },
    {
      "cell_type": "code",
      "source": [
        "# Determine the percentage of unpaid 5-star reviews \n",
        "percent_5star_unpaid = (count_5star_unpaid/count_unpaid)*100\n",
        "print(f'Percentage of 5-star reviews for unpaid reviews: {percent_5star_unpaid}')"
      ],
      "metadata": {
        "colab": {
          "base_uri": "https://localhost:8080/"
        },
        "id": "FulGmDdQYLql",
        "outputId": "41dad73e-57c4-495a-e978-663488ff544d"
      },
      "execution_count": 34,
      "outputs": [
        {
          "output_type": "stream",
          "name": "stdout",
          "text": [
            "Percentage of 5-star reviews for unpaid reviews: 61.33665956527331\n"
          ]
        }
      ]
    },
    {
      "cell_type": "markdown",
      "source": [
        "# **Determine the percentage of 5-star most helpful reviews for the two types of review (paid vs unpaid)**"
      ],
      "metadata": {
        "id": "GrjTwXB7bY-u"
      }
    },
    {
      "cell_type": "code",
      "source": [
        "# Filter paid reviews for helpful_votes ratio equal to or greater than 50%.\n",
        "# Determine the total number of paid most helpful reviews\n",
        "most_helpful_paid_df = most_helpful_votes.filter(vine_df.vine == 'Y')\n",
        "count_most_helpful_paid = most_helpful_paid_df.count()\n",
        "print(f'Total number of paid most helpful reviews: {count_most_helpful_paid}')"
      ],
      "metadata": {
        "colab": {
          "base_uri": "https://localhost:8080/"
        },
        "id": "G3HoVo5fXA_V",
        "outputId": "d66c2927-709e-402c-ba90-9248981df763"
      },
      "execution_count": 39,
      "outputs": [
        {
          "output_type": "stream",
          "name": "stdout",
          "text": [
            "Total number of paid most helpful reviews: 0\n"
          ]
        }
      ]
    },
    {
      "cell_type": "code",
      "source": [
        "# Determine the total number of paid 5-star most helpful reviews\n",
        "count_5star_most_helpful_paid = most_helpful_paid_df.filter(\"star_rating=='5'\").count()\n",
        "print(f'Total number of paid 5-star most helpful reviews: {count_5star_most_helpful_paid}')"
      ],
      "metadata": {
        "colab": {
          "base_uri": "https://localhost:8080/"
        },
        "id": "qplaMtOpfPbf",
        "outputId": "4b41b8e4-bb25-49df-9333-ea91106dce4b"
      },
      "execution_count": 40,
      "outputs": [
        {
          "output_type": "stream",
          "name": "stdout",
          "text": [
            "Total number of paid 5-star most helpful reviews: 0\n"
          ]
        }
      ]
    },
    {
      "cell_type": "code",
      "source": [
        "# Determine the percentage of 5-star most helpful reviews for paid reviews\n",
        "percent_5star_most_helpful_paid = (count_5star_most_helpful_paid / count_most_helpful_paid)*100\n",
        "print(f'Percentage of 5-star most helpful reviews for paid reviews: {percent_5star_most_helpful_paid}')"
      ],
      "metadata": {
        "colab": {
          "base_uri": "https://localhost:8080/",
          "height": 201
        },
        "id": "eqw22NbXfQ38",
        "outputId": "2363c0b9-8673-41df-9119-9fae2a73e991"
      },
      "execution_count": 42,
      "outputs": [
        {
          "output_type": "error",
          "ename": "ZeroDivisionError",
          "evalue": "ignored",
          "traceback": [
            "\u001b[0;31m---------------------------------------------------------------------------\u001b[0m",
            "\u001b[0;31mZeroDivisionError\u001b[0m                         Traceback (most recent call last)",
            "\u001b[0;32m<ipython-input-42-fb16e4910a0f>\u001b[0m in \u001b[0;36m<module>\u001b[0;34m\u001b[0m\n\u001b[1;32m      1\u001b[0m \u001b[0;31m# Determine the percentage of 5-star most helpful reviews for paid reviews\u001b[0m\u001b[0;34m\u001b[0m\u001b[0;34m\u001b[0m\u001b[0;34m\u001b[0m\u001b[0m\n\u001b[0;32m----> 2\u001b[0;31m \u001b[0mpercent_5star_most_helpful_paid\u001b[0m \u001b[0;34m=\u001b[0m \u001b[0;34m(\u001b[0m\u001b[0mcount_5star_most_helpful_paid\u001b[0m \u001b[0;34m/\u001b[0m \u001b[0mcount_most_helpful_paid\u001b[0m\u001b[0;34m)\u001b[0m\u001b[0;34m*\u001b[0m\u001b[0;36m100\u001b[0m\u001b[0;34m\u001b[0m\u001b[0;34m\u001b[0m\u001b[0m\n\u001b[0m\u001b[1;32m      3\u001b[0m \u001b[0mprint\u001b[0m\u001b[0;34m(\u001b[0m\u001b[0;34mf'Percentage of 5-star most helpful reviews for paid reviews: {percent_5star_most_helpful_paid}'\u001b[0m\u001b[0;34m)\u001b[0m\u001b[0;34m\u001b[0m\u001b[0;34m\u001b[0m\u001b[0m\n",
            "\u001b[0;31mZeroDivisionError\u001b[0m: division by zero"
          ]
        }
      ]
    },
    {
      "cell_type": "code",
      "source": [
        "# Filter unpaid reviews for helpful_votes ratio equal to or greater than 50%.\n",
        "# Determine the total number of paid most helpful reviews\n",
        "most_helpful_unpaid_df = most_helpful_votes.filter(vine_df.vine == 'N')\n",
        "count_most_helpful_unpaid = most_helpful_unpaid_df.count()\n",
        "print(f'Total number of unpaid most helpful reviews: {count_most_helpful_unpaid}')"
      ],
      "metadata": {
        "colab": {
          "base_uri": "https://localhost:8080/"
        },
        "id": "MNzwHRDXhIwq",
        "outputId": "3840042e-d530-49f8-f61f-dd51b3f3c75c"
      },
      "execution_count": 43,
      "outputs": [
        {
          "output_type": "stream",
          "name": "stdout",
          "text": [
            "Total number of unpaid most helpful reviews: 54079\n"
          ]
        }
      ]
    },
    {
      "cell_type": "code",
      "source": [
        "# Determine the total number of unpaid 5-star most helpful reviews\n",
        "count_5star_most_helpful_unpaid = most_helpful_unpaid_df.filter(\"star_rating=='5'\").count()\n",
        "print(f'Total number of unpaid 5-star most helpful reviews: {count_5star_most_helpful_unpaid}')"
      ],
      "metadata": {
        "colab": {
          "base_uri": "https://localhost:8080/"
        },
        "id": "lnggIVIKhVGo",
        "outputId": "a53019b5-fb84-4ebe-eb46-d1f652e79587"
      },
      "execution_count": 44,
      "outputs": [
        {
          "output_type": "stream",
          "name": "stdout",
          "text": [
            "Total number of unpaid 5-star most helpful reviews: 20911\n"
          ]
        }
      ]
    },
    {
      "cell_type": "code",
      "source": [
        "# Determine the percentage of 5-star most helpful reviews for unpaid reviews\n",
        "percent_5star_most_helpful_unpaid = (count_5star_most_helpful_unpaid / count_most_helpful_unpaid)*100\n",
        "print(f'Percentage of 5-star most helpful reviews for unpaid reviews: {percent_5star_most_helpful_unpaid}')"
      ],
      "metadata": {
        "colab": {
          "base_uri": "https://localhost:8080/"
        },
        "id": "4XRi8XhihbEr",
        "outputId": "5cbf0748-bfce-4a20-a1b5-5d5538bb1482"
      },
      "execution_count": 45,
      "outputs": [
        {
          "output_type": "stream",
          "name": "stdout",
          "text": [
            "Percentage of 5-star most helpful reviews for unpaid reviews: 38.667504946467204\n"
          ]
        }
      ]
    },
    {
      "cell_type": "code",
      "source": [],
      "metadata": {
        "id": "odApOg2d9SzB"
      },
      "execution_count": null,
      "outputs": []
    }
  ]
}